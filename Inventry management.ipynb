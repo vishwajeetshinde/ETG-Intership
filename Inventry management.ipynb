{
  "nbformat": 4,
  "nbformat_minor": 0,
  "metadata": {
    "colab": {
      "name": "Untitled4.ipynb",
      "provenance": [],
      "collapsed_sections": []
    },
    "kernelspec": {
      "name": "python3",
      "display_name": "Python 3"
    },
    "language_info": {
      "name": "python"
    }
  },
  "cells": [
    {
      "cell_type": "code",
      "metadata": {
        "id": "razNj89wepnp"
      },
      "source": [
        "import json"
      ],
      "execution_count": null,
      "outputs": []
    },
    {
      "cell_type": "code",
      "metadata": {
        "id": "AEO4gRMtlEpY"
      },
      "source": [
        "record={100:{\"name\":\"Dairy milk\" , \"price\":40 , \"quatity\":50 , \"expiry\":\"2 yrs after\"},\n",
        "        101:{\"name\":\"Ice-cream\", \"price\": 60, \"quantity\": 100, \"expiry\":\"1 yr after\"},\n",
        "        102:{\"name\":\"Coffee\", \"price\": 150, \"quantity\": 30, \"expiry\":\"1.5 yrs after\"},\n",
        "        103:{\"name\":\"Sausage\", \"price\": 130, \"quantity\": 30, \"expiry\":\"1 yr after\"},\n",
        "        104:{\"name\":\"sugar\", \"price\": 40, \"quantity\": 50, \"expiry\":\"6 months after\"},\n",
        "        105:{\"name\":\"Maggie\", \"price\": 12, \"quantity\": 30, \"expiry\":\"10 months after\"},\n",
        "        106:{\"name\":\"Biscuits\", \"price\": 40, \"quantity\": 20, \"expiry\":\"1 yr after\"},\n",
        "        107:{\"name\":\"Perfume\", \"price\": 200, \"quantity\": 20, \"expiry\":\"2 yrs after\"},\n",
        "        108:{\"name\":\"Dal\", \"price\": 120, \"quantity\": 50, \"expiry\":\"10 months after\"},\n",
        "        109:{\"name\":\"sneakers\", \"price\": 20, \"quantity\": 10, \"expiry\":\"2 yrs after\"},\n",
        "        110:{\"name\":\"pencil box\", \"price\": 80, \"quantity\": 10, \"expiry\":\"2 yrs after\"},\n",
        "        111:{\"name\":\"pilot pen\", \"price\": 5, \"quantity\": 50, \"expiry\":\"2 yrs after\"},\n",
        "        112:{\"name\":\"colors\", \"price\": 120, \"quantity\": 10, \"expiry\":\"2 yrs after\"},\n",
        "        113:{\"name\":\"notebook\", \"price\": 60, \"quantity\": 60, \"expiry\":\"2 yrs after\"},\n",
        "        114:{\"name\":\"clinic plus shampoo\", \"price\": 100, \"quantity\": 10, \"expiry\":\"1 yr after\"},\n",
        "        115:{\"name\":\"fruity juice\", \"price\": 80, \"quantity\": 10, \"expiry\":\"6 month after\"},\n",
        "        116:{\"name\":\"dettol soap\", \"price\": 30, \"quantity\": 60, \"expiry\":\"2 yrs after\"},\n",
        "        117:{\"name\":\"fevicol\", \"price\": 10, \"quantity\": 10, \"expiry\":\"2 yrs after\"},\n",
        "        118:{\"name\":\"chips/kurkure\", \"price\": 10, \"quantity\": 20, \"expiry\":\"6 months after\"},\n",
        "        119:{\"name\":\"Bread\", \"price\": 38, \"quantity\": 8, \"expiry\":\"5 days after\"},\n",
        "        120:{\"name\":\"center fresh\", \"price\": 1, \"quantity\": 100, \"expiry\":\"1 yr after\"},\n",
        "        }\n"
      ],
      "execution_count": null,
      "outputs": []
    },
    {
      "cell_type": "code",
      "metadata": {
        "id": "qDlWXIYnVSI3"
      },
      "source": [
        "js=json.dumps(record)"
      ],
      "execution_count": null,
      "outputs": []
    },
    {
      "cell_type": "code",
      "metadata": {
        "colab": {
          "base_uri": "https://localhost:8080/",
          "height": 137
        },
        "id": "ndlstMHSVfG9",
        "outputId": "44fa618c-5d52-49e6-aaa0-1f886723d782"
      },
      "source": [
        "record\n",
        "js"
      ],
      "execution_count": null,
      "outputs": [
        {
          "output_type": "execute_result",
          "data": {
            "application/vnd.google.colaboratory.intrinsic+json": {
              "type": "string"
            },
            "text/plain": [
              "'{\"100\": {\"name\": \"Dairy milk\", \"price\": 40, \"quatity\": 50, \"expiry\": \"2 yrs after\"}, \"101\": {\"name\": \"Ice-cream\", \"price\": 60, \"quantity\": 100, \"expiry\": \"1 yr after\"}, \"102\": {\"name\": \"Coffee\", \"price\": 150, \"quantity\": 30, \"expiry\": \"1.5 yrs after\"}, \"103\": {\"name\": \"Sausage\", \"price\": 130, \"quantity\": 30, \"expiry\": \"1 yr after\"}, \"104\": {\"name\": \"sugar\", \"price\": 40, \"quantity\": 50, \"expiry\": \"6 months after\"}, \"105\": {\"name\": \"Maggie\", \"price\": 12, \"quantity\": 30, \"expiry\": \"10 months after\"}, \"106\": {\"name\": \"Biscuits\", \"price\": 40, \"quantity\": 20, \"expiry\": \"1 yr after\"}, \"107\": {\"name\": \"Perfume\", \"price\": 200, \"quantity\": 20, \"expiry\": \"2 yrs after\"}, \"108\": {\"name\": \"Dal\", \"price\": 120, \"quantity\": 50, \"expiry\": \"10 months after\"}, \"109\": {\"name\": \"sneakers\", \"price\": 20, \"quantity\": 10, \"expiry\": \"2 yrs after\"}, \"110\": {\"name\": \"pencil box\", \"price\": 80, \"quantity\": 10, \"expiry\": \"2 yrs after\"}, \"111\": {\"name\": \"pilot pen\", \"price\": 5, \"quantity\": 50, \"expiry\": \"2 yrs after\"}, \"112\": {\"name\": \"colors\", \"price\": 120, \"quantity\": 10, \"expiry\": \"2 yrs after\"}, \"113\": {\"name\": \"notebook\", \"price\": 60, \"quantity\": 60, \"expiry\": \"2 yrs after\"}, \"114\": {\"name\": \"clinic plus shampoo\", \"price\": 100, \"quantity\": 10, \"expiry\": \"1 yr after\"}, \"115\": {\"name\": \"fruity juice\", \"price\": 80, \"quantity\": 10, \"expiry\": \"6 month after\"}, \"116\": {\"name\": \"dettol soap\", \"price\": 30, \"quantity\": 60, \"expiry\": \"2 yrs after\"}, \"117\": {\"name\": \"fevicol\", \"price\": 10, \"quantity\": 10, \"expiry\": \"2 yrs after\"}, \"118\": {\"name\": \"chips/kurkure\", \"price\": 10, \"quantity\": 20, \"expiry\": \"6 months after\"}, \"119\": {\"name\": \"Bread\", \"price\": 38, \"quantity\": 8, \"expiry\": \"5 days after\"}, \"120\": {\"name\": \"center fresh\", \"price\": 1, \"quantity\": 100, \"expiry\": \"1 yr after\"}}'"
            ]
          },
          "metadata": {},
          "execution_count": 5
        }
      ]
    },
    {
      "cell_type": "code",
      "metadata": {
        "colab": {
          "base_uri": "https://localhost:8080/",
          "height": 137
        },
        "id": "jIZhQnjHVha7",
        "outputId": "2d6b17a7-e93b-4342-d6ad-020374b1df83"
      },
      "source": [
        "js\n"
      ],
      "execution_count": null,
      "outputs": [
        {
          "output_type": "execute_result",
          "data": {
            "application/vnd.google.colaboratory.intrinsic+json": {
              "type": "string"
            },
            "text/plain": [
              "'{\"100\": {\"name\": \"Dairy milk\", \"price\": 40, \"quatity\": 50, \"expiry\": \"2 yrs after\"}, \"101\": {\"name\": \"Ice-cream\", \"price\": 60, \"quantity\": 100, \"expiry\": \"1 yr after\"}, \"102\": {\"name\": \"Coffee\", \"price\": 150, \"quantity\": 30, \"expiry\": \"1.5 yrs after\"}, \"103\": {\"name\": \"Sausage\", \"price\": 130, \"quantity\": 30, \"expiry\": \"1 yr after\"}, \"104\": {\"name\": \"sugar\", \"price\": 40, \"quantity\": 50, \"expiry\": \"6 months after\"}, \"105\": {\"name\": \"Maggie\", \"price\": 12, \"quantity\": 30, \"expiry\": \"10 months after\"}, \"106\": {\"name\": \"Biscuits\", \"price\": 40, \"quantity\": 20, \"expiry\": \"1 yr after\"}, \"107\": {\"name\": \"Perfume\", \"price\": 200, \"quantity\": 20, \"expiry\": \"2 yrs after\"}, \"108\": {\"name\": \"Dal\", \"price\": 120, \"quantity\": 50, \"expiry\": \"10 months after\"}, \"109\": {\"name\": \"sneakers\", \"price\": 20, \"quantity\": 10, \"expiry\": \"2 yrs after\"}, \"110\": {\"name\": \"pencil box\", \"price\": 80, \"quantity\": 10, \"expiry\": \"2 yrs after\"}, \"111\": {\"name\": \"pilot pen\", \"price\": 5, \"quantity\": 50, \"expiry\": \"2 yrs after\"}, \"112\": {\"name\": \"colors\", \"price\": 120, \"quantity\": 10, \"expiry\": \"2 yrs after\"}, \"113\": {\"name\": \"notebook\", \"price\": 60, \"quantity\": 60, \"expiry\": \"2 yrs after\"}, \"114\": {\"name\": \"clinic plus shampoo\", \"price\": 100, \"quantity\": 10, \"expiry\": \"1 yr after\"}, \"115\": {\"name\": \"fruity juice\", \"price\": 80, \"quantity\": 10, \"expiry\": \"6 month after\"}, \"116\": {\"name\": \"dettol soap\", \"price\": 30, \"quantity\": 60, \"expiry\": \"2 yrs after\"}, \"117\": {\"name\": \"fevicol\", \"price\": 10, \"quantity\": 10, \"expiry\": \"2 yrs after\"}, \"118\": {\"name\": \"chips/kurkure\", \"price\": 10, \"quantity\": 20, \"expiry\": \"6 months after\"}, \"119\": {\"name\": \"Bread\", \"price\": 38, \"quantity\": 8, \"expiry\": \"5 days after\"}, \"120\": {\"name\": \"center fresh\", \"price\": 1, \"quantity\": 100, \"expiry\": \"1 yr after\"}}'"
            ]
          },
          "metadata": {},
          "execution_count": 6
        }
      ]
    },
    {
      "cell_type": "code",
      "metadata": {
        "colab": {
          "base_uri": "https://localhost:8080/"
        },
        "id": "phTukspMVkQD",
        "outputId": "f1daf5ab-f850-4d4e-9e52-0dc718ff96bb"
      },
      "source": [
        "record"
      ],
      "execution_count": null,
      "outputs": [
        {
          "output_type": "execute_result",
          "data": {
            "text/plain": [
              "{100: {'expiry': '2 yrs after',\n",
              "  'name': 'Dairy milk',\n",
              "  'price': 40,\n",
              "  'quatity': 50},\n",
              " 101: {'expiry': '1 yr after',\n",
              "  'name': 'Ice-cream',\n",
              "  'price': 60,\n",
              "  'quantity': 100},\n",
              " 102: {'expiry': '1.5 yrs after',\n",
              "  'name': 'Coffee',\n",
              "  'price': 150,\n",
              "  'quantity': 30},\n",
              " 103: {'expiry': '1 yr after',\n",
              "  'name': 'Sausage',\n",
              "  'price': 130,\n",
              "  'quantity': 30},\n",
              " 104: {'expiry': '6 months after',\n",
              "  'name': 'sugar',\n",
              "  'price': 40,\n",
              "  'quantity': 50},\n",
              " 105: {'expiry': '10 months after',\n",
              "  'name': 'Maggie',\n",
              "  'price': 12,\n",
              "  'quantity': 30},\n",
              " 106: {'expiry': '1 yr after',\n",
              "  'name': 'Biscuits',\n",
              "  'price': 40,\n",
              "  'quantity': 20},\n",
              " 107: {'expiry': '2 yrs after',\n",
              "  'name': 'Perfume',\n",
              "  'price': 200,\n",
              "  'quantity': 20},\n",
              " 108: {'expiry': '10 months after',\n",
              "  'name': 'Dal',\n",
              "  'price': 120,\n",
              "  'quantity': 50},\n",
              " 109: {'expiry': '2 yrs after',\n",
              "  'name': 'sneakers',\n",
              "  'price': 20,\n",
              "  'quantity': 10},\n",
              " 110: {'expiry': '2 yrs after',\n",
              "  'name': 'pencil box',\n",
              "  'price': 80,\n",
              "  'quantity': 10},\n",
              " 111: {'expiry': '2 yrs after',\n",
              "  'name': 'pilot pen',\n",
              "  'price': 5,\n",
              "  'quantity': 50},\n",
              " 112: {'expiry': '2 yrs after',\n",
              "  'name': 'colors',\n",
              "  'price': 120,\n",
              "  'quantity': 10},\n",
              " 113: {'expiry': '2 yrs after',\n",
              "  'name': 'notebook',\n",
              "  'price': 60,\n",
              "  'quantity': 60},\n",
              " 114: {'expiry': '1 yr after',\n",
              "  'name': 'clinic plus shampoo',\n",
              "  'price': 100,\n",
              "  'quantity': 10},\n",
              " 115: {'expiry': '6 month after',\n",
              "  'name': 'fruity juice',\n",
              "  'price': 80,\n",
              "  'quantity': 10},\n",
              " 116: {'expiry': '2 yrs after',\n",
              "  'name': 'dettol soap',\n",
              "  'price': 30,\n",
              "  'quantity': 60},\n",
              " 117: {'expiry': '2 yrs after',\n",
              "  'name': 'fevicol',\n",
              "  'price': 10,\n",
              "  'quantity': 10},\n",
              " 118: {'expiry': '6 months after',\n",
              "  'name': 'chips/kurkure',\n",
              "  'price': 10,\n",
              "  'quantity': 20},\n",
              " 119: {'expiry': '5 days after', 'name': 'Bread', 'price': 38, 'quantity': 8},\n",
              " 120: {'expiry': '1 yr after',\n",
              "  'name': 'center fresh',\n",
              "  'price': 1,\n",
              "  'quantity': 100}}"
            ]
          },
          "metadata": {},
          "execution_count": 7
        }
      ]
    },
    {
      "cell_type": "code",
      "metadata": {
        "id": "LZrQvfGdVmyU"
      },
      "source": [
        "fd = open(\"record.json\" , 'w')\n",
        "fd.write(js)\n",
        "fd.close()\n"
      ],
      "execution_count": null,
      "outputs": []
    },
    {
      "cell_type": "code",
      "metadata": {
        "id": "iagMbOi1WB9B"
      },
      "source": [
        "fd = open(\"record.json\" , 'r')\n",
        "rcr=fd.read()\n",
        "fd.close()"
      ],
      "execution_count": null,
      "outputs": []
    },
    {
      "cell_type": "code",
      "metadata": {
        "colab": {
          "base_uri": "https://localhost:8080/"
        },
        "id": "s6PJGMb5lJgF",
        "outputId": "7c1fabb5-4545-4043-c7a7-cfed2546550a"
      },
      "source": [
        "products=str(rcr)\n",
        "rcr1=rcr.split(\"\\n\")\n",
        "for i in rcr1:\n",
        "  print (i)"
      ],
      "execution_count": null,
      "outputs": [
        {
          "output_type": "stream",
          "name": "stdout",
          "text": [
            "{\"100\": {\"name\": \"Dairy milk\", \"price\": 40, \"quatity\": 50}, \"101\": {\"name\": \"Ice-cream\", \"price\": 60, \"quantity\": 100}, \"102\": {\"name\": \"Coffee\", \"price\": 150, \"quantity\": 30}, \"103\": {\"name\": \"Sausage\", \"price\": 130, \"quantity\": 30}, \"104\": {\"name\": \"sugar\", \"price\": 40, \"quantity\": 50}, \"105\": {\"name\": \"Maggie\", \"price\": 12, \"quantity\": 30}, \"106\": {\"name\": \"Biscuits\", \"price\": 40, \"quantity\": 20}, \"107\": {\"name\": \"Perfume\", \"price\": 200, \"quantity\": 20}, \"108\": {\"name\": \"Dal\", \"price\": 120, \"quantity\": 50}, \"109\": {\"name\": \"Chilli powder\", \"price\": 60, \"quantity\": 10}}\n"
          ]
        }
      ]
    },
    {
      "cell_type": "markdown",
      "metadata": {
        "id": "0RVGrSIwPVWC"
      },
      "source": [
        "## **Billing**\n",
        "\n"
      ]
    },
    {
      "cell_type": "code",
      "metadata": {
        "colab": {
          "base_uri": "https://localhost:8080/"
        },
        "id": "ZKQfKXXp3uQM",
        "outputId": "f037ab68-1ed8-4155-9838-91ff1e4c60a5"
      },
      "source": [
        "dict.keys(record)"
      ],
      "execution_count": 11,
      "outputs": [
        {
          "output_type": "execute_result",
          "data": {
            "text/plain": [
              "dict_keys([100, 101, 102, 103, 104, 105, 106, 107, 108, 109, 110, 111, 112, 113, 114, 115, 116, 117, 118, 119, 120])"
            ]
          },
          "metadata": {},
          "execution_count": 11
        }
      ]
    },
    {
      "cell_type": "code",
      "metadata": {
        "id": "FVVRH-CAlQRN"
      },
      "source": [
        "lst = []\n",
        "for i in dict.keys(record):\n",
        "        lst.append(i)\n",
        "\n"
      ],
      "execution_count": 12,
      "outputs": []
    },
    {
      "cell_type": "code",
      "metadata": {
        "colab": {
          "base_uri": "https://localhost:8080/"
        },
        "id": "CG7m6QajbS_O",
        "outputId": "535e0f3c-2525-4110-dc9a-93822728e897"
      },
      "source": [
        "lst"
      ],
      "execution_count": 13,
      "outputs": [
        {
          "output_type": "execute_result",
          "data": {
            "text/plain": [
              "[100,\n",
              " 101,\n",
              " 102,\n",
              " 103,\n",
              " 104,\n",
              " 105,\n",
              " 106,\n",
              " 107,\n",
              " 108,\n",
              " 109,\n",
              " 110,\n",
              " 111,\n",
              " 112,\n",
              " 113,\n",
              " 114,\n",
              " 115,\n",
              " 116,\n",
              " 117,\n",
              " 118,\n",
              " 119,\n",
              " 120]"
            ]
          },
          "metadata": {},
          "execution_count": 13
        }
      ]
    },
    {
      "cell_type": "code",
      "metadata": {
        "id": "BCoHOvtpcjLK",
        "colab": {
          "base_uri": "https://localhost:8080/"
        },
        "outputId": "5bccfd9b-705d-427d-9f74-1d2e8433d746"
      },
      "source": [
        "product_No= int(input(\"Enter the product ID that you want to add into cart: \"))\n",
        "quantity_no= input(\"Enter the no of quantity you want to add: \")\n",
        "\n",
        "\n",
        "\n",
        "for i in range(20):\n",
        "  if(lst[i] == int(product_No)):\n",
        "    print(\"*****************Welcome to our shop*******************\")\n",
        "    print(\"\\n\")\n",
        "    print(\"You just selected \"+record[product_No][\"name\"]+\" as a product in you cart. \\n\")\n",
        "    amount=record[product_No][\"price\"] * int(quantity_no )\n",
        "    print(\"*****************The Billing amount is*****************\")\n",
        "    print(\"The total amount is: \",amount)\n",
        "    print(\"Alert!! It expires on \"+record[product_No][\"expiry\"])\n",
        "    print(\"Thanks For purchasing from our Store , Visit Again !!!!\")\n",
        "  else:\n",
        "    continue\n",
        "\n",
        "  "
      ],
      "execution_count": 38,
      "outputs": [
        {
          "output_type": "stream",
          "name": "stdout",
          "text": [
            "Enter the product ID that you want to add into cart: 110\n",
            "Enter the no of quantity you want to add: 3\n",
            "*****************Welcome to our shop*******************\n",
            "\n",
            "\n",
            "You just selected pencil boxas a product in you cart. \n",
            "\n",
            "*****************The Billing amount is*****************\n",
            "The total amount is:  240\n",
            "Alert!! It expires on 2 yrs after\n",
            "Thanks For purchasing from our Store , Visit Again !!!!\n"
          ]
        }
      ]
    },
    {
      "cell_type": "markdown",
      "metadata": {
        "id": "u0P3TroLdllg"
      },
      "source": [
        "## **Sales** Report"
      ]
    },
    {
      "cell_type": "code",
      "metadata": {
        "id": "4kUarXP3YJYi"
      },
      "source": [
        "final=str(amount)\n",
        "slip= open(\"sales.txt\" , 'w')\n",
        "slip.write(\"*****************Welcome to our shop*******************\")\n",
        "slip.write(\"\\n\")\n",
        "slip.write(\"You just selected \"+record[product_No][\"name\"]+\"as a product in you cart. \\n\")\n",
        "slip.write(\"*****************The Billing amount is****************\\n\")\n",
        "slip.write(\"The total amount is: \"+final+\"\\n\")\n",
        "slip.write(\"Alert!! It expires on \"+record[product_No][\"expiry\"])\n",
        "slip.write(\"\\nThanks For purchasing from our Store , Visit Again !!!!\")\n",
        "slip.close()\n"
      ],
      "execution_count": 41,
      "outputs": []
    },
    {
      "cell_type": "code",
      "metadata": {
        "colab": {
          "base_uri": "https://localhost:8080/"
        },
        "id": "z11h9IjBZMs0",
        "outputId": "f58d211d-568e-4332-dc03-9016fd96e269"
      },
      "source": [
        "slip=open(\"sales.txt\",'r')\n",
        "slip1=slip.read()\n",
        "slip.close()\n",
        "\n",
        "print(slip1)"
      ],
      "execution_count": 42,
      "outputs": [
        {
          "output_type": "stream",
          "name": "stdout",
          "text": [
            "*****************Welcome to our shop*******************\n",
            "You just selected pencil boxas a product in you cart. \n",
            "*****************The Billing amount is****************\n",
            "The total amount is: 240\n",
            "Alert!! It expires on 2 yrs after\n",
            "Thanks For purchasing from our Store , Visit Again !!!!\n"
          ]
        }
      ]
    }
  ]
}