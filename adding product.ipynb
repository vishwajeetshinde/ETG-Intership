{
  "nbformat": 4,
  "nbformat_minor": 0,
  "metadata": {
    "colab": {
      "name": "Untitled5.ipynb",
      "provenance": [],
      "collapsed_sections": []
    },
    "kernelspec": {
      "name": "python3",
      "display_name": "Python 3"
    },
    "language_info": {
      "name": "python"
    }
  },
  "cells": [
    {
      "cell_type": "code",
      "metadata": {
        "id": "wrzWiYw_t1q_"
      },
      "source": [
        "record={100:{\"name\":\"Dairy milk\" , \"price\":40 , \"quatity\":50 , \"expiry\":\"2 yrs after\"},\n",
        "        101:{\"name\":\"Ice-cream\", \"price\": 60, \"quantity\": 100, \"expiry\":\"1 yr after\"},\n",
        "        102:{\"name\":\"Coffee\", \"price\": 150, \"quantity\": 30, \"expiry\":\"1.5 yrs after\"},\n",
        "        103:{\"name\":\"Sausage\", \"price\": 130, \"quantity\": 30, \"expiry\":\"1 yr after\"},\n",
        "        104:{\"name\":\"sugar\", \"price\": 40, \"quantity\": 50, \"expiry\":\"6 months after\"},\n",
        "        105:{\"name\":\"Maggie\", \"price\": 12, \"quantity\": 30, \"expiry\":\"10 months after\"},\n",
        "        106:{\"name\":\"Biscuits\", \"price\": 40, \"quantity\": 20, \"expiry\":\"1 yr after\"},\n",
        "        107:{\"name\":\"Perfume\", \"price\": 200, \"quantity\": 20, \"expiry\":\"2 yrs after\"},\n",
        "        108:{\"name\":\"Dal\", \"price\": 120, \"quantity\": 50, \"expiry\":\"10 months after\"},\n",
        "        109:{\"name\":\"sneakers\", \"price\": 20, \"quantity\": 10, \"expiry\":\"2 yrs after\"},\n",
        "        110:{\"name\":\"pencil box\", \"price\": 80, \"quantity\": 10, \"expiry\":\"2 yrs after\"},\n",
        "        111:{\"name\":\"pilot pen\", \"price\": 5, \"quantity\": 50, \"expiry\":\"2 yrs after\"},\n",
        "        112:{\"name\":\"colors\", \"price\": 120, \"quantity\": 10, \"expiry\":\"2 yrs after\"},\n",
        "        113:{\"name\":\"notebook\", \"price\": 60, \"quantity\": 60, \"expiry\":\"2 yrs after\"},\n",
        "        114:{\"name\":\"clinic plus shampoo\", \"price\": 100, \"quantity\": 10, \"expiry\":\"1 yr after\"},\n",
        "        115:{\"name\":\"fruity juice\", \"price\": 80, \"quantity\": 10, \"expiry\":\"6 month after\"},\n",
        "        116:{\"name\":\"dettol soap\", \"price\": 30, \"quantity\": 60, \"expiry\":\"2 yrs after\"},\n",
        "        117:{\"name\":\"fevicol\", \"price\": 10, \"quantity\": 10, \"expiry\":\"2 yrs after\"},\n",
        "        118:{\"name\":\"chips/kurkure\", \"price\": 10, \"quantity\": 20, \"expiry\":\"6 months after\"},\n",
        "        119:{\"name\":\"Bread\", \"price\": 38, \"quantity\": 8, \"expiry\":\"5 days after\"},\n",
        "        120:{\"name\":\"center fresh\", \"price\": 1, \"quantity\": 100, \"expiry\":\"1 yr after\"},\n",
        "        }"
      ],
      "execution_count": 2,
      "outputs": []
    },
    {
      "cell_type": "code",
      "metadata": {
        "id": "GS0B7HTgfrhw",
        "colab": {
          "base_uri": "https://localhost:8080/"
        },
        "outputId": "f776efb3-293b-4d46-ab54-decc3ae33f5c"
      },
      "source": [
        "a=int(input(\"Enter how many products you want to add: \"))\n",
        "j=120\n",
        "for i in range(0,a):\n",
        "  j=j+1\n",
        "  product=input(\"Enter the product you want to add: \")\n",
        "  pro_price=int(input(\"Enter the price: \"))\n",
        "  pro_quantity=int(input(\"How much quantity you have: \"))\n",
        "  ex_date=input(\"Enter the expiry date: \")\n",
        "  my_dict={}\n",
        "  my_dict[\"name\"]=product\n",
        "  my_dict[\"price\"]=pro_price\n",
        "  my_dict[\"quantity\"]=pro_quantity\n",
        "  my_dict[\"expiry\"]=ex_date\n",
        "  record[j]=my_dict\n",
        "  i=i+1\n"
      ],
      "execution_count": 8,
      "outputs": [
        {
          "name": "stdout",
          "output_type": "stream",
          "text": [
            "Enter how many products you want to add: 3\n",
            "Enter the product you want to add: parle\n",
            "Enter the price: 10\n",
            "How much quantity you have: 24\n",
            "Enter the expiry date: 6 months\n",
            "Enter the product you want to add: pizza base\n",
            "Enter the price: 40\n",
            "How much quantity you have: 4\n",
            "Enter the expiry date: 4 days\n",
            "Enter the product you want to add: masala\n",
            "Enter the price: 60\n",
            "How much quantity you have: 24\n",
            "Enter the expiry date: 6 months\n"
          ]
        }
      ]
    },
    {
      "cell_type": "code",
      "metadata": {
        "colab": {
          "base_uri": "https://localhost:8080/"
        },
        "id": "bEZaM0bwQeRP",
        "outputId": "47677f8a-156b-40a7-ec68-f2c7468fe1a5"
      },
      "source": [
        "record"
      ],
      "execution_count": 9,
      "outputs": [
        {
          "output_type": "execute_result",
          "data": {
            "text/plain": [
              "{100: {'expiry': '2 yrs after',\n",
              "  'name': 'Dairy milk',\n",
              "  'price': 40,\n",
              "  'quatity': 50},\n",
              " 101: {'expiry': '1 yr after',\n",
              "  'name': 'Ice-cream',\n",
              "  'price': 60,\n",
              "  'quantity': 100},\n",
              " 102: {'expiry': '1.5 yrs after',\n",
              "  'name': 'Coffee',\n",
              "  'price': 150,\n",
              "  'quantity': 30},\n",
              " 103: {'expiry': '1 yr after',\n",
              "  'name': 'Sausage',\n",
              "  'price': 130,\n",
              "  'quantity': 30},\n",
              " 104: {'expiry': '6 months after',\n",
              "  'name': 'sugar',\n",
              "  'price': 40,\n",
              "  'quantity': 50},\n",
              " 105: {'expiry': '10 months after',\n",
              "  'name': 'Maggie',\n",
              "  'price': 12,\n",
              "  'quantity': 30},\n",
              " 106: {'expiry': '1 yr after',\n",
              "  'name': 'Biscuits',\n",
              "  'price': 40,\n",
              "  'quantity': 20},\n",
              " 107: {'expiry': '2 yrs after',\n",
              "  'name': 'Perfume',\n",
              "  'price': 200,\n",
              "  'quantity': 20},\n",
              " 108: {'expiry': '10 months after',\n",
              "  'name': 'Dal',\n",
              "  'price': 120,\n",
              "  'quantity': 50},\n",
              " 109: {'expiry': '2 yrs after',\n",
              "  'name': 'sneakers',\n",
              "  'price': 20,\n",
              "  'quantity': 10},\n",
              " 110: {'expiry': '2 yrs after',\n",
              "  'name': 'pencil box',\n",
              "  'price': 80,\n",
              "  'quantity': 10},\n",
              " 111: {'expiry': '2 yrs after',\n",
              "  'name': 'pilot pen',\n",
              "  'price': 5,\n",
              "  'quantity': 50},\n",
              " 112: {'expiry': '2 yrs after',\n",
              "  'name': 'colors',\n",
              "  'price': 120,\n",
              "  'quantity': 10},\n",
              " 113: {'expiry': '2 yrs after',\n",
              "  'name': 'notebook',\n",
              "  'price': 60,\n",
              "  'quantity': 60},\n",
              " 114: {'expiry': '1 yr after',\n",
              "  'name': 'clinic plus shampoo',\n",
              "  'price': 100,\n",
              "  'quantity': 10},\n",
              " 115: {'expiry': '6 month after',\n",
              "  'name': 'fruity juice',\n",
              "  'price': 80,\n",
              "  'quantity': 10},\n",
              " 116: {'expiry': '2 yrs after',\n",
              "  'name': 'dettol soap',\n",
              "  'price': 30,\n",
              "  'quantity': 60},\n",
              " 117: {'expiry': '2 yrs after',\n",
              "  'name': 'fevicol',\n",
              "  'price': 10,\n",
              "  'quantity': 10},\n",
              " 118: {'expiry': '6 months after',\n",
              "  'name': 'chips/kurkure',\n",
              "  'price': 10,\n",
              "  'quantity': 20},\n",
              " 119: {'expiry': '5 days after', 'name': 'Bread', 'price': 38, 'quantity': 8},\n",
              " 120: {'expiry': '1 yr after',\n",
              "  'name': 'center fresh',\n",
              "  'price': 1,\n",
              "  'quantity': 100},\n",
              " 121: {'expiry': '6 months', 'name': 'parle', 'price': 10, 'quantity': 24},\n",
              " 122: {'expiry': '4 days', 'name': 'pizza base', 'price': 40, 'quantity': 4},\n",
              " 123: {'expiry': '6 months', 'name': 'masala', 'price': 60, 'quantity': 24}}"
            ]
          },
          "metadata": {},
          "execution_count": 9
        }
      ]
    },
    {
      "cell_type": "code",
      "metadata": {
        "id": "8dvTid9hSdv2"
      },
      "source": [
        "import json"
      ],
      "execution_count": 10,
      "outputs": []
    },
    {
      "cell_type": "code",
      "metadata": {
        "id": "1JmuCG7DSfXi"
      },
      "source": [
        "js1=json.dumps(record)"
      ],
      "execution_count": 11,
      "outputs": []
    },
    {
      "cell_type": "code",
      "metadata": {
        "id": "8OpLXt5eSt-g"
      },
      "source": [
        "final_file= open(\"add_prod.json\" , 'w')\n",
        "final_file.write(js1)\n",
        "final_file.close()"
      ],
      "execution_count": 12,
      "outputs": []
    },
    {
      "cell_type": "code",
      "metadata": {
        "id": "8pVK0DtITI1d"
      },
      "source": [
        "final= open(\"add_prod.json\", 'r')\n",
        "fd=final.read()\n",
        "final.close()"
      ],
      "execution_count": 13,
      "outputs": []
    },
    {
      "cell_type": "code",
      "metadata": {
        "colab": {
          "base_uri": "https://localhost:8080/",
          "height": 142
        },
        "id": "lMAAM5uyTcjp",
        "outputId": "c30147f0-c8aa-40fc-bb59-0a0f6d58a056"
      },
      "source": [
        "fd\n"
      ],
      "execution_count": 14,
      "outputs": [
        {
          "output_type": "execute_result",
          "data": {
            "application/vnd.google.colaboratory.intrinsic+json": {
              "type": "string"
            },
            "text/plain": [
              "'{\"100\": {\"name\": \"Dairy milk\", \"price\": 40, \"quatity\": 50, \"expiry\": \"2 yrs after\"}, \"101\": {\"name\": \"Ice-cream\", \"price\": 60, \"quantity\": 100, \"expiry\": \"1 yr after\"}, \"102\": {\"name\": \"Coffee\", \"price\": 150, \"quantity\": 30, \"expiry\": \"1.5 yrs after\"}, \"103\": {\"name\": \"Sausage\", \"price\": 130, \"quantity\": 30, \"expiry\": \"1 yr after\"}, \"104\": {\"name\": \"sugar\", \"price\": 40, \"quantity\": 50, \"expiry\": \"6 months after\"}, \"105\": {\"name\": \"Maggie\", \"price\": 12, \"quantity\": 30, \"expiry\": \"10 months after\"}, \"106\": {\"name\": \"Biscuits\", \"price\": 40, \"quantity\": 20, \"expiry\": \"1 yr after\"}, \"107\": {\"name\": \"Perfume\", \"price\": 200, \"quantity\": 20, \"expiry\": \"2 yrs after\"}, \"108\": {\"name\": \"Dal\", \"price\": 120, \"quantity\": 50, \"expiry\": \"10 months after\"}, \"109\": {\"name\": \"sneakers\", \"price\": 20, \"quantity\": 10, \"expiry\": \"2 yrs after\"}, \"110\": {\"name\": \"pencil box\", \"price\": 80, \"quantity\": 10, \"expiry\": \"2 yrs after\"}, \"111\": {\"name\": \"pilot pen\", \"price\": 5, \"quantity\": 50, \"expiry\": \"2 yrs after\"}, \"112\": {\"name\": \"colors\", \"price\": 120, \"quantity\": 10, \"expiry\": \"2 yrs after\"}, \"113\": {\"name\": \"notebook\", \"price\": 60, \"quantity\": 60, \"expiry\": \"2 yrs after\"}, \"114\": {\"name\": \"clinic plus shampoo\", \"price\": 100, \"quantity\": 10, \"expiry\": \"1 yr after\"}, \"115\": {\"name\": \"fruity juice\", \"price\": 80, \"quantity\": 10, \"expiry\": \"6 month after\"}, \"116\": {\"name\": \"dettol soap\", \"price\": 30, \"quantity\": 60, \"expiry\": \"2 yrs after\"}, \"117\": {\"name\": \"fevicol\", \"price\": 10, \"quantity\": 10, \"expiry\": \"2 yrs after\"}, \"118\": {\"name\": \"chips/kurkure\", \"price\": 10, \"quantity\": 20, \"expiry\": \"6 months after\"}, \"119\": {\"name\": \"Bread\", \"price\": 38, \"quantity\": 8, \"expiry\": \"5 days after\"}, \"120\": {\"name\": \"center fresh\", \"price\": 1, \"quantity\": 100, \"expiry\": \"1 yr after\"}, \"121\": {\"name\": \"parle\", \"price\": 10, \"quantity\": 24, \"expiry\": \"6 months\"}, \"122\": {\"name\": \"pizza base\", \"price\": 40, \"quantity\": 4, \"expiry\": \"4 days\"}, \"123\": {\"name\": \"masala\", \"price\": 60, \"quantity\": 24, \"expiry\": \"6 months\"}}'"
            ]
          },
          "metadata": {},
          "execution_count": 14
        }
      ]
    },
    {
      "cell_type": "code",
      "metadata": {
        "id": "ihrwYrqITdlA"
      },
      "source": [
        ""
      ],
      "execution_count": null,
      "outputs": []
    }
  ]
}